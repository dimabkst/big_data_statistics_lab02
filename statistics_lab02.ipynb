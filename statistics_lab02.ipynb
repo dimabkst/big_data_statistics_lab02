{
  "nbformat": 4,
  "nbformat_minor": 0,
  "metadata": {
    "colab": {
      "provenance": []
    },
    "kernelspec": {
      "name": "python3",
      "display_name": "Python 3"
    },
    "language_info": {
      "name": "python"
    }
  },
  "cells": [
    {
      "cell_type": "markdown",
      "source": [
        "**Імпортуємо неохідні модулі та функції**"
      ],
      "metadata": {
        "id": "kfOIU07XRgDo"
      }
    },
    {
      "cell_type": "code",
      "execution_count": 3,
      "metadata": {
        "id": "mF_B9Df6rATX"
      },
      "outputs": [],
      "source": [
        "import pandas as pd\n",
        "from traceback import print_exc\n",
        "from random import uniform\n",
        "from time import perf_counter"
      ]
    },
    {
      "cell_type": "markdown",
      "source": [
        "**Функція для трансформації даних, які будуть прочитані з csv файлу.**\n",
        "\n",
        "Ознака для варіанту №1 - **Overall scores**. Дані в цьому стовпчику наявні в наступних форматах:\n",
        "\n",
        "![image.png](data:image/png;base64,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)\n",
        "\n",
        "Через це, наступна функція спочатку намагається перетворити клітинку на число.\n",
        "\n",
        "Якщо в неї це не виходить, вона перевіряє чи наявний дефіс, якщо так, то вона повертає середнє значення чисел, які розділені ним, інакше (даних які б потрапили в else в цьому файлі нема, але для повноти програми додав цю умову) повертаємо значення клітинки і згодом (в наступній функції) її значення буде замінене на середнє всіх числових значень отриманих після цього перетворення."
      ],
      "metadata": {
        "id": "BjMS0t5ARqJn"
      }
    },
    {
      "cell_type": "code",
      "source": [
        "def transform_scores(score: str):\n",
        "    try:\n",
        "        # If data is a number we return the number\n",
        "        return float(score)\n",
        "    except ValueError:\n",
        "        if '–' in score:\n",
        "            # Some data is in format n–m so we put in that cell an average of n and m\n",
        "            lower_score, upper_score = map(float, score.split('–'))\n",
        "\n",
        "            return lower_score + upper_score / 2\n",
        "        else:\n",
        "            # If data cannot be transformed to number just return it\n",
        "            return score"
      ],
      "metadata": {
        "id": "fW7fyHuORplJ"
      },
      "execution_count": 4,
      "outputs": []
    },
    {
      "cell_type": "markdown",
      "source": [
        "**Функція для отримання даних, які будуть опрацьовані.**\n",
        "\n",
        "Її алгоритм:\n",
        "\n",
        "\n",
        "1.   Прочитати csv файл;\n",
        "2.   Дістати з прочитаних даних, стовпчик з назвою 'Overall scores' у вигляді Pandas Series рядків (str), дл ятого аби врахувати, що в нас є значення формату n-m;\n",
        "3.   Застосувати перетворення описане вище;\n",
        "4.   Дістати всі числові значення, не числові замінити на NaN;\n",
        "5.   Для числових даних обчислити середнє значення та замінити всі NaN на це значення.   \n",
        "\n"
      ],
      "metadata": {
        "id": "QMXfQS7CTUww"
      }
    },
    {
      "cell_type": "code",
      "source": [
        "def get_overall_scores_data(file_path: str) -> pd.Series:\n",
        "    universities_df = pd.read_csv(file_path)\n",
        "\n",
        "    # As we need only one column, we use Pandas Series\n",
        "    overall_scores_column = universities_df['Overall scores'].astype(str)\n",
        "\n",
        "    # Transform values to numbers if possible\n",
        "    overall_scores = overall_scores_column.apply(transform_scores)\n",
        "\n",
        "    # Convert values to numeric, coerce non-numeric values to NaN\n",
        "    overall_scores = pd.to_numeric(overall_scores, errors='coerce')\n",
        "\n",
        "    # Drop NaN values\n",
        "    numeric_values = overall_scores.dropna()\n",
        "\n",
        "    # Calculate mean of numeric values\n",
        "    mean = numeric_values.mean()\n",
        "\n",
        "    # Fill NaN values with mean\n",
        "    overall_scores.fillna(value=mean, inplace=True)\n",
        "\n",
        "    return overall_scores"
      ],
      "metadata": {
        "id": "yefd-NW7TWob"
      },
      "execution_count": 5,
      "outputs": []
    },
    {
      "cell_type": "markdown",
      "source": [
        "**Функція для реалізації Методу дробного інтервалу СВ.**\n",
        "\n",
        "Випадкове число α ∈ \\(1, a) згенероване з використанням `random.uniform`."
      ],
      "metadata": {
        "id": "alEaL_WDVQnT"
      }
    },
    {
      "cell_type": "code",
      "source": [
        "def fractional_interval_method(data: pd.Series, n: int):\n",
        "    N = len(data)\n",
        "\n",
        "    a = N / n\n",
        "\n",
        "    alpha = uniform(1.0, a)\n",
        "\n",
        "    sample = [data[int(alpha + i * a)] for i in range(n)]\n",
        "\n",
        "    return sample"
      ],
      "metadata": {
        "id": "VdoRR7ohVQ-q"
      },
      "execution_count": 6,
      "outputs": []
    },
    {
      "cell_type": "markdown",
      "source": [
        "**Тіло основної функції програми.**\n",
        "\n",
        "Алгоритм:\n",
        "\n",
        "1.   Зчитуємо дані з файлу, задаємо числові дані варіанту;\n",
        "2.   Створюємо вибірки використовуючи метод зображений вище, для першого виклику функції, обраховуємо час виконання методу в секундах;\n",
        "3.   Обраховуємо середнє значення генеральної сукупності, середні значення для кожної з вибірок, міжгрупове стандартне відхилення;\n",
        "4.   Виводимо отримані значення в консоль.\n",
        "\n",
        "Можемо бачити, що середні значення для вибірок досить близькі до середнього значення генеральної сукупності"
      ],
      "metadata": {
        "id": "B5piovzuW_hd"
      }
    },
    {
      "cell_type": "code",
      "source": [
        "if __name__ == '__main__':\n",
        "    try:\n",
        "        overall_scores = get_overall_scores_data('./data/universities_data.csv')\n",
        "\n",
        "        m = 10\n",
        "\n",
        "        n = 5\n",
        "\n",
        "        sample_len = max(1, int(len(overall_scores) * n / 100))\n",
        "\n",
        "        samples = []\n",
        "\n",
        "        method_work_time = 0\n",
        "\n",
        "        for i in range(m):\n",
        "            if i:\n",
        "                sample = fractional_interval_method(overall_scores, sample_len)\n",
        "            else:\n",
        "                # Calculate method work time\n",
        "                start_time = perf_counter()\n",
        "\n",
        "                sample = fractional_interval_method(overall_scores, sample_len)\n",
        "\n",
        "                end_time = perf_counter()\n",
        "\n",
        "                method_work_time = end_time - start_time\n",
        "\n",
        "            samples.append(pd.Series(sample))\n",
        "\n",
        "        general_mean = overall_scores.mean()\n",
        "\n",
        "        sample_means = [sample.mean() for sample in samples]\n",
        "\n",
        "        samples_std = pd.concat(samples).std()\n",
        "\n",
        "        print(f'Execution time: {method_work_time}')\n",
        "        print(f'General mean: {general_mean}')\n",
        "        print(f'Sample means: {sample_means}')\n",
        "        print(f'Samples std: {samples_std}')\n",
        "    except Exception as e:\n",
        "        print('Error occurred:')\n",
        "        print_exc()"
      ],
      "metadata": {
        "colab": {
          "base_uri": "https://localhost:8080/"
        },
        "id": "heII_HPKVemr",
        "outputId": "044b0f5f-f4ec-4db8-e7e4-55e4edd19bd6"
      },
      "execution_count": 7,
      "outputs": [
        {
          "output_type": "stream",
          "name": "stdout",
          "text": [
            "Execution time: 0.0001966430004358699\n",
            "General mean: 52.00516483516485\n",
            "Sample means: [52.42111111111113, 51.83555555555557, 52.65222222222224, 52.35666666666669, 52.21666666666669, 50.9277777777778, 52.38777777777779, 51.692222222222235, 52.58333333333336, 52.011111111111134]\n",
            "Samples std: 16.117340321678103\n"
          ]
        }
      ]
    }
  ]
}